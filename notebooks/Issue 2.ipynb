{
 "cells": [
  {
   "cell_type": "markdown",
   "metadata": {},
   "source": [
    "### Imports"
   ]
  },
  {
   "cell_type": "code",
   "execution_count": 1,
   "metadata": {},
   "outputs": [],
   "source": [
    "import sys\n",
    "sys.path.insert(0, '..')"
   ]
  },
  {
   "cell_type": "code",
   "execution_count": 2,
   "metadata": {},
   "outputs": [],
   "source": [
    "import logging\n",
    "from io import StringIO\n",
    "\n",
    "import pandas as pd\n",
    "import numpy as np\n",
    "from ast import literal_eval\n",
    "import flat_table as ft"
   ]
  },
  {
   "cell_type": "code",
   "execution_count": 3,
   "metadata": {},
   "outputs": [],
   "source": [
    "logging.basicConfig(level=logging.WARNING)"
   ]
  },
  {
   "cell_type": "markdown",
   "metadata": {},
   "source": [
    "### Issue 2"
   ]
  },
  {
   "cell_type": "code",
   "execution_count": 4,
   "metadata": {},
   "outputs": [],
   "source": [
    "sample = \"\"\"\n",
    "Intents| Clean_Description | Clean_Short_Description | Algorithm | System | Is_ata | Language | ShortDescription | Description\n",
    "-- | -- | -- | -- | -- | -- | -- | -- | --\n",
    "[] | v | v | Intent_similarity | ISA | FALSE | en | v | v\n",
    "[] | d | c | Intent_similarity | ISA | FALSE | en | c | d\n",
    "[{'Prediction': 'Intent2094',   'Similarity_score': 0.6559049986732967, 'Threshold': 0.5, 'Confident': True,   'Closest_email_ID': '10301533'}]| f | a | Email_similarity | APA | FALSE | en | a | f\n",
    "\n",
    "\"\"\""
   ]
  },
  {
   "cell_type": "code",
   "execution_count": 5,
   "metadata": {},
   "outputs": [],
   "source": [
    "df = pd.read_csv(StringIO(sample), sep='|')\n",
    "df.drop(index=0, inplace=True)"
   ]
  },
  {
   "cell_type": "code",
   "execution_count": 6,
   "metadata": {},
   "outputs": [
    {
     "data": {
      "text/html": [
       "<div>\n",
       "<style scoped>\n",
       "    .dataframe tbody tr th:only-of-type {\n",
       "        vertical-align: middle;\n",
       "    }\n",
       "\n",
       "    .dataframe tbody tr th {\n",
       "        vertical-align: top;\n",
       "    }\n",
       "\n",
       "    .dataframe thead th {\n",
       "        text-align: right;\n",
       "    }\n",
       "</style>\n",
       "<table border=\"1\" class=\"dataframe\">\n",
       "  <thead>\n",
       "    <tr style=\"text-align: right;\">\n",
       "      <th></th>\n",
       "      <th>Intents</th>\n",
       "      <th>Clean_Description</th>\n",
       "      <th>Clean_Short_Description</th>\n",
       "      <th>Algorithm</th>\n",
       "      <th>System</th>\n",
       "      <th>Is_ata</th>\n",
       "      <th>Language</th>\n",
       "      <th>ShortDescription</th>\n",
       "      <th>Description</th>\n",
       "    </tr>\n",
       "  </thead>\n",
       "  <tbody>\n",
       "    <tr>\n",
       "      <th>1</th>\n",
       "      <td>[]</td>\n",
       "      <td>v</td>\n",
       "      <td>v</td>\n",
       "      <td>Intent_similarity</td>\n",
       "      <td>ISA</td>\n",
       "      <td>FALSE</td>\n",
       "      <td>en</td>\n",
       "      <td>v</td>\n",
       "      <td>v</td>\n",
       "    </tr>\n",
       "    <tr>\n",
       "      <th>2</th>\n",
       "      <td>[]</td>\n",
       "      <td>d</td>\n",
       "      <td>c</td>\n",
       "      <td>Intent_similarity</td>\n",
       "      <td>ISA</td>\n",
       "      <td>FALSE</td>\n",
       "      <td>en</td>\n",
       "      <td>c</td>\n",
       "      <td>d</td>\n",
       "    </tr>\n",
       "    <tr>\n",
       "      <th>3</th>\n",
       "      <td>[{'Prediction': 'Intent2094',   'Similarity_sc...</td>\n",
       "      <td>f</td>\n",
       "      <td>a</td>\n",
       "      <td>Email_similarity</td>\n",
       "      <td>APA</td>\n",
       "      <td>FALSE</td>\n",
       "      <td>en</td>\n",
       "      <td>a</td>\n",
       "      <td>f</td>\n",
       "    </tr>\n",
       "  </tbody>\n",
       "</table>\n",
       "</div>"
      ],
      "text/plain": [
       "                                             Intents  Clean_Description   \\\n",
       "1                                                []                   v    \n",
       "2                                                []                   d    \n",
       "3  [{'Prediction': 'Intent2094',   'Similarity_sc...                  f    \n",
       "\n",
       "   Clean_Short_Description            Algorithm   System   Is_ata   Language   \\\n",
       "1                        v    Intent_similarity      ISA    FALSE         en    \n",
       "2                        c    Intent_similarity      ISA    FALSE         en    \n",
       "3                        a     Email_similarity      APA    FALSE         en    \n",
       "\n",
       "   ShortDescription   Description  \n",
       "1                 v             v  \n",
       "2                 c             d  \n",
       "3                 a             f  "
      ]
     },
     "execution_count": 6,
     "metadata": {},
     "output_type": "execute_result"
    }
   ],
   "source": [
    "df"
   ]
  },
  {
   "cell_type": "markdown",
   "metadata": {},
   "source": [
    "### Without Literal Eval"
   ]
  },
  {
   "cell_type": "code",
   "execution_count": 7,
   "metadata": {},
   "outputs": [
    {
     "data": {
      "text/html": [
       "<div>\n",
       "<style scoped>\n",
       "    .dataframe tbody tr th:only-of-type {\n",
       "        vertical-align: middle;\n",
       "    }\n",
       "\n",
       "    .dataframe tbody tr th {\n",
       "        vertical-align: top;\n",
       "    }\n",
       "\n",
       "    .dataframe thead th {\n",
       "        text-align: right;\n",
       "    }\n",
       "</style>\n",
       "<table border=\"1\" class=\"dataframe\">\n",
       "  <thead>\n",
       "    <tr style=\"text-align: right;\">\n",
       "      <th></th>\n",
       "      <th>index</th>\n",
       "      <th>Intents</th>\n",
       "      <th>Clean_Description</th>\n",
       "      <th>Clean_Short_Description</th>\n",
       "      <th>Algorithm</th>\n",
       "      <th>System</th>\n",
       "      <th>Is_ata</th>\n",
       "      <th>Language</th>\n",
       "      <th>ShortDescription</th>\n",
       "      <th>Description</th>\n",
       "    </tr>\n",
       "  </thead>\n",
       "  <tbody>\n",
       "    <tr>\n",
       "      <th>0</th>\n",
       "      <td>1</td>\n",
       "      <td>[]</td>\n",
       "      <td>v</td>\n",
       "      <td>v</td>\n",
       "      <td>Intent_similarity</td>\n",
       "      <td>ISA</td>\n",
       "      <td>FALSE</td>\n",
       "      <td>en</td>\n",
       "      <td>v</td>\n",
       "      <td>v</td>\n",
       "    </tr>\n",
       "    <tr>\n",
       "      <th>1</th>\n",
       "      <td>2</td>\n",
       "      <td>[]</td>\n",
       "      <td>d</td>\n",
       "      <td>c</td>\n",
       "      <td>Intent_similarity</td>\n",
       "      <td>ISA</td>\n",
       "      <td>FALSE</td>\n",
       "      <td>en</td>\n",
       "      <td>c</td>\n",
       "      <td>d</td>\n",
       "    </tr>\n",
       "    <tr>\n",
       "      <th>2</th>\n",
       "      <td>3</td>\n",
       "      <td>[{'Prediction': 'Intent2094',   'Similarity_sc...</td>\n",
       "      <td>f</td>\n",
       "      <td>a</td>\n",
       "      <td>Email_similarity</td>\n",
       "      <td>APA</td>\n",
       "      <td>FALSE</td>\n",
       "      <td>en</td>\n",
       "      <td>a</td>\n",
       "      <td>f</td>\n",
       "    </tr>\n",
       "  </tbody>\n",
       "</table>\n",
       "</div>"
      ],
      "text/plain": [
       "   index                                            Intents  \\\n",
       "0      1                                                []    \n",
       "1      2                                                []    \n",
       "2      3  [{'Prediction': 'Intent2094',   'Similarity_sc...   \n",
       "\n",
       "   Clean_Description   Clean_Short_Description            Algorithm   System   \\\n",
       "0                  v                         v    Intent_similarity      ISA    \n",
       "1                  d                         c    Intent_similarity      ISA    \n",
       "2                  f                         a     Email_similarity      APA    \n",
       "\n",
       "   Is_ata   Language   ShortDescription   Description  \n",
       "0   FALSE         en                  v             v  \n",
       "1   FALSE         en                  c             d  \n",
       "2   FALSE         en                  a             f  "
      ]
     },
     "execution_count": 7,
     "metadata": {},
     "output_type": "execute_result"
    }
   ],
   "source": [
    "ft.normalize(df)"
   ]
  },
  {
   "cell_type": "markdown",
   "metadata": {},
   "source": [
    "### With Literal Eval"
   ]
  },
  {
   "cell_type": "code",
   "execution_count": 8,
   "metadata": {},
   "outputs": [],
   "source": [
    "df.Intents = df.Intents.apply(lambda x: literal_eval(x))"
   ]
  },
  {
   "cell_type": "code",
   "execution_count": 9,
   "metadata": {},
   "outputs": [
    {
     "data": {
      "text/html": [
       "<div>\n",
       "<style scoped>\n",
       "    .dataframe tbody tr th:only-of-type {\n",
       "        vertical-align: middle;\n",
       "    }\n",
       "\n",
       "    .dataframe tbody tr th {\n",
       "        vertical-align: top;\n",
       "    }\n",
       "\n",
       "    .dataframe thead th {\n",
       "        text-align: right;\n",
       "    }\n",
       "</style>\n",
       "<table border=\"1\" class=\"dataframe\">\n",
       "  <thead>\n",
       "    <tr style=\"text-align: right;\">\n",
       "      <th></th>\n",
       "      <th>index</th>\n",
       "      <th>Intents.Closest_email_ID</th>\n",
       "      <th>Intents.Confident</th>\n",
       "      <th>Intents.Threshold</th>\n",
       "      <th>Intents.Similarity_score</th>\n",
       "      <th>Intents.Prediction</th>\n",
       "      <th>Clean_Description</th>\n",
       "      <th>Clean_Short_Description</th>\n",
       "      <th>Algorithm</th>\n",
       "      <th>System</th>\n",
       "      <th>Is_ata</th>\n",
       "      <th>Language</th>\n",
       "      <th>ShortDescription</th>\n",
       "      <th>Description</th>\n",
       "    </tr>\n",
       "  </thead>\n",
       "  <tbody>\n",
       "    <tr>\n",
       "      <th>0</th>\n",
       "      <td>3</td>\n",
       "      <td>10301533</td>\n",
       "      <td>True</td>\n",
       "      <td>0.5</td>\n",
       "      <td>0.655905</td>\n",
       "      <td>Intent2094</td>\n",
       "      <td>f</td>\n",
       "      <td>a</td>\n",
       "      <td>Email_similarity</td>\n",
       "      <td>APA</td>\n",
       "      <td>FALSE</td>\n",
       "      <td>en</td>\n",
       "      <td>a</td>\n",
       "      <td>f</td>\n",
       "    </tr>\n",
       "  </tbody>\n",
       "</table>\n",
       "</div>"
      ],
      "text/plain": [
       "   index Intents.Closest_email_ID Intents.Confident  Intents.Threshold  \\\n",
       "0      3                 10301533              True                0.5   \n",
       "\n",
       "   Intents.Similarity_score Intents.Prediction  Clean_Description   \\\n",
       "0                  0.655905         Intent2094                  f    \n",
       "\n",
       "   Clean_Short_Description           Algorithm   System   Is_ata   Language   \\\n",
       "0                        a    Email_similarity      APA    FALSE         en    \n",
       "\n",
       "   ShortDescription   Description  \n",
       "0                 a             f  "
      ]
     },
     "execution_count": 9,
     "metadata": {},
     "output_type": "execute_result"
    }
   ],
   "source": [
    "ft.normalize(df)"
   ]
  }
 ],
 "metadata": {
  "kernelspec": {
   "display_name": "Flat Table",
   "language": "python",
   "name": "flat-table"
  },
  "language_info": {
   "codemirror_mode": {
    "name": "ipython",
    "version": 3
   },
   "file_extension": ".py",
   "mimetype": "text/x-python",
   "name": "python",
   "nbconvert_exporter": "python",
   "pygments_lexer": "ipython3",
   "version": "3.8.3"
  }
 },
 "nbformat": 4,
 "nbformat_minor": 4
}
